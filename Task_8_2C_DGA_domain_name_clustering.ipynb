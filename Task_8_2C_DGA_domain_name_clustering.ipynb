{
  "nbformat": 4,
  "nbformat_minor": 0,
  "metadata": {
    "colab": {
      "name": "Task 8.2C: DGA domain name clustering.ipynb",
      "version": "0.3.2",
      "provenance": []
    },
    "kernelspec": {
      "name": "python3",
      "display_name": "Python 3"
    },
    "accelerator": "TPU"
  },
  "cells": [
    {
      "cell_type": "code",
      "metadata": {
        "id": "yo63iQlIIYF4",
        "colab_type": "code",
        "colab": {}
      },
      "source": [
        "import sys\n",
        "import re\n",
        "import numpy as np\n",
        "from sklearn.externals import joblib\n",
        "import csv\n",
        "import matplotlib.pyplot as plt\n",
        "import os\n",
        "from sklearn.feature_extraction.text import CountVectorizer\n",
        "from sklearn.model_selection import cross_validate \n",
        "import os\n",
        "from sklearn.cluster import KMeans\n",
        "from sklearn.manifold import TSNE"
      ],
      "execution_count": 0,
      "outputs": []
    },
    {
      "cell_type": "code",
      "metadata": {
        "id": "M902aWyhIqnC",
        "colab_type": "code",
        "colab": {}
      },
      "source": [
        "#minimum lenght of a dns name\n",
        "MIN_LEN=10\n",
        "\n",
        "#random state\n",
        "random_state = 170\n",
        "#random_state = 1"
      ],
      "execution_count": 0,
      "outputs": []
    },
    {
      "cell_type": "code",
      "metadata": {
        "id": "8ijpKnSuI6zR",
        "colab_type": "code",
        "colab": {}
      },
      "source": [
        "def load_alexa(filename):\n",
        "    domain_list=[]\n",
        "    csv_reader = csv.reader(open(filename))\n",
        "    for row in csv_reader:\n",
        "        domain=row[1]\n",
        "        #print(domain)\n",
        "        if len(domain) >= MIN_LEN:\n",
        "            domain_list.append(domain)\n",
        "    return domain_list\n",
        "\n",
        "def domain2ver(domain):\n",
        "    ver=[]\n",
        "    for i in range(0,len(domain)):\n",
        "        ver.append([ord(domain[i])])\n",
        "    return ver\n",
        "\n",
        "\n",
        "def load_dga(filename):\n",
        "    domain_list=[]\n",
        "    #xsxqeadsbgvpdke.co.uk,Domain used by Cryptolocker - Flashback DGA for 13 Apr 2017,2017-04-13,\n",
        "    # http://osint.bambenekconsulting.com/manual/cl.txt\n",
        "    with open(filename) as f:\n",
        "        for line in f:\n",
        "            domain=line.split(\",\")[0]\n",
        "            if len(domain) >= MIN_LEN:\n",
        "                domain_list.append(domain)\n",
        "    return  domain_list\n"
      ],
      "execution_count": 0,
      "outputs": []
    },
    {
      "cell_type": "code",
      "metadata": {
        "id": "7aP3CB6DJXxE",
        "colab_type": "code",
        "colab": {}
      },
      "source": [
        "#load dns data\n",
        "x1_domain_list = load_alexa(\"top-100.csv\")\n",
        "x2_domain_list = load_dga(\"dga-cryptolocke-50.txt\")\n",
        "x3_domain_list = load_dga(\"dga-post-tovar-goz-50.txt\")\n",
        "\n",
        "x_domain_list=np.concatenate((x1_domain_list, x2_domain_list,x3_domain_list))"
      ],
      "execution_count": 0,
      "outputs": []
    },
    {
      "cell_type": "code",
      "metadata": {
        "id": "kizC04wNJfr9",
        "colab_type": "code",
        "colab": {}
      },
      "source": [
        "y1=[0]*len(x1_domain_list)\n",
        "y2=[1]*len(x2_domain_list)\n",
        "y3=[1]*len(x3_domain_list)\n",
        "\n",
        "y=np.concatenate((y1, y2,y3))"
      ],
      "execution_count": 0,
      "outputs": []
    },
    {
      "cell_type": "code",
      "metadata": {
        "id": "nlyM8XrFJj0X",
        "colab_type": "code",
        "colab": {}
      },
      "source": [
        "# print (x_domain_list.shape)\n",
        "\n",
        "cv = CountVectorizer(ngram_range=(2, 2), decode_error=\"ignore\",\n",
        "                                      token_pattern=r\"\\w\", min_df=1)\n",
        "X= cv.fit_transform(x_domain_list).toarray()"
      ],
      "execution_count": 0,
      "outputs": []
    },
    {
      "cell_type": "code",
      "metadata": {
        "id": "X8HeaL1EJooY",
        "colab_type": "code",
        "colab": {}
      },
      "source": [
        "# Number of clusters\n",
        "kmeans = KMeans(n_clusters=2,random_state=170)\n",
        "# Fitting the input data\n",
        "kmeans = kmeans.fit(X)\n",
        "# Getting the cluster labels\n",
        "y_pred = kmeans.predict(X)\n",
        "\n"
      ],
      "execution_count": 0,
      "outputs": []
    },
    {
      "cell_type": "code",
      "metadata": {
        "id": "wcPm3U0ROGJQ",
        "colab_type": "code",
        "colab": {}
      },
      "source": [
        "tsne = TSNE(n_components=2)\n",
        "tsne_results = tsne.fit_transform(X)"
      ],
      "execution_count": 0,
      "outputs": []
    },
    {
      "cell_type": "code",
      "metadata": {
        "id": "BwKffev-OKAK",
        "colab_type": "code",
        "colab": {
          "base_uri": "https://localhost:8080/",
          "height": 71
        },
        "outputId": "963f9995-1868-4271-e73c-76176c48a99a"
      },
      "source": [
        "score = np.mean(y_pred ==y)*100\n",
        "\n",
        "\n",
        "print(\"Before TSNE: \", X.shape)\n",
        "print(\"Accuracy: \", score)\n",
        "print(\"After TSNE: \", tsne_results.shape)"
      ],
      "execution_count": 23,
      "outputs": [
        {
          "output_type": "stream",
          "text": [
            "Before TSNE:  (158, 983)\n",
            "Accuracy:  72.15189873417721\n",
            "After TSNE:  (158, 2)\n"
          ],
          "name": "stdout"
        }
      ]
    },
    {
      "cell_type": "code",
      "metadata": {
        "id": "deNmhoMhOWqF",
        "colab_type": "code",
        "colab": {}
      },
      "source": [
        ""
      ],
      "execution_count": 0,
      "outputs": []
    }
  ]
}